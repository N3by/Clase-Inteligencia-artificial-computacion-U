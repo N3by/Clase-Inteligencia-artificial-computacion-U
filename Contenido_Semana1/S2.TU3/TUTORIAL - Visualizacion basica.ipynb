{
 "cells": [
  {
   "cell_type": "markdown",
   "metadata": {},
   "source": [
    "# Visualización básica"
   ]
  },
  {
   "cell_type": "markdown",
   "metadata": {},
   "source": [
    "Visualizar datos a través de mapas o gráficos permite identificar tendencias, patrones y valores atípicos. Usualmente utilizamos las visualizaciones para decidir cómo orientar nuestro análisis."
   ]
  },
  {
   "cell_type": "markdown",
   "metadata": {},
   "source": [
    "En este tutorial establecemos nociones fundamentales sobre el uso del paquete `matplotlib` para visualizar datos."
   ]
  },
  {
   "cell_type": "markdown",
   "metadata": {},
   "source": [
    "## Requisitos"
   ]
  },
  {
   "cell_type": "markdown",
   "metadata": {},
   "source": [
    "Para desarrollar este tutorial necesitarás:\n",
    "\n",
    "* Utilizar estructuras de datos y de control"
   ]
  },
  {
   "cell_type": "markdown",
   "metadata": {},
   "source": [
    "## Objetivos"
   ]
  },
  {
   "cell_type": "markdown",
   "metadata": {},
   "source": [
    "Al final de este tutorial podrás:\n",
    "\n",
    "**1.** Realizar visualizaciones de datos utilizando la librería `matplotlib`.<br>"
   ]
  },
  {
   "cell_type": "markdown",
   "metadata": {},
   "source": [
    "## 1. Librería `matplotlib`"
   ]
  },
  {
   "cell_type": "markdown",
   "metadata": {},
   "source": [
    "`matplotlib` es una librería de uso abierto para el lenguaje Python, que soporta visualizaciones estáticas, animadas e interactivas. \n",
    "\n",
    "Te recomendamos importar el módulo `matplotlib.pyplot` utilizando el nombre `plt` (su alias más usado), como se muestra a continuación."
   ]
  },
  {
   "cell_type": "code",
   "execution_count": 3,
   "metadata": {
    "scrolled": true
   },
   "outputs": [],
   "source": [
    "import matplotlib.pyplot as plt"
   ]
  },
  {
   "cell_type": "markdown",
   "metadata": {},
   "source": [
    "### 1.1. Declarar una visualización"
   ]
  },
  {
   "cell_type": "markdown",
   "metadata": {},
   "source": [
    "Para declarar una visualización utilizamos el método `subplots` del módulo `matplotlib.pyplot`. Este nos permite crear un objeto de tipo `figure` (`fig`) para establecer el lienzo sobre el cual colocaremos un gráfico y un objeto de tipo `axes`(`ax`) que hace referencia a un gráfico. \n",
    "\n",
    "```python\n",
    "fig, ax = plt.subplots()\n",
    "```"
   ]
  },
  {
   "cell_type": "markdown",
   "metadata": {},
   "source": [
    "Asimismo, podemos colocar más de un gráfico en un mismo lienzo. Para esto, ingresamos por parámetro el número de filas (`n`) y el número de columnas (`m`) en las que queremos dividir el lienzo. \n",
    "\n",
    "```python\n",
    "fig, ax = plt.subplots(n,m)       \n",
    "```"
   ]
  },
  {
   "cell_type": "markdown",
   "metadata": {},
   "source": [
    "A continuación, mostramos un ejemplo de la declaración de una visualización cuyo lienzo permite colocar dos gráficos, uno encima del otro:"
   ]
  },
  {
   "cell_type": "code",
   "execution_count": 4,
   "metadata": {},
   "outputs": [
    {
     "data": {
      "image/png": "[encoded data removed]",
      "text/plain": [
       "<Figure size 640x480 with 2 Axes>"
      ]
     },
     "metadata": {},
     "output_type": "display_data"
    }
   ],
   "source": [
    "fig, ax = plt.subplots(2,1)                                     # Declaramos la visualización.\n",
    "grafico1 = ax[0].plot(                                          # Declaramos el gráfico 1.\n",
    "                   [1,2,3,4],                                   # Asginamos valores al eje x.\n",
    "                   [1,4,8,10],                                  # Asginamos valores al eje y.\n",
    "                   color='blue'                                 # Modificamos el color del gráfico.\n",
    "                     )                        \n",
    "grafico2 = ax[1].plot(                                          # Declaramos el gráfico 2.\n",
    "                   [1,2,3,4],                                   # Asginamos valores al eje x.\n",
    "                   [1,5,7,9],                                   # Asginamos valores al eje y.\n",
    "                   color='green'                                # Modificamos el color del gráfico.\n",
    "                     )\n",
    "\n",
    "plt.show()                                                      # Utilizamos el método show para mostrar la visualización."
   ]
  },
  {
   "cell_type": "markdown",
   "metadata": {},
   "source": [
    "### 1.2. Tipos de visualización"
   ]
  },
  {
   "cell_type": "markdown",
   "metadata": {},
   "source": [
    "La siguiente tabla asocia algunos de los métodos del objeto `ax` con el respectivo tipo de visualización que genera."
   ]
  },
  {
   "cell_type": "markdown",
   "metadata": {},
   "source": [
    "| <center>Método | <center>Tipo de visualización | \n",
    "| :--- | :--- | \n",
    "| `scatter` | Gráfico de dispersión |\n",
    "| `plot` | Gráfico de línea |\n",
    "| `hist` | Histogramas |\n",
    "| `bar` | Gráfico de barras |"
   ]
  },
  {
   "cell_type": "markdown",
   "metadata": {},
   "source": [
    "### 1.3. Métodos para editar los gráficos"
   ]
  },
  {
   "cell_type": "markdown",
   "metadata": {},
   "source": [
    "A continuación, presentamos los principales métodos para editar un objeto de tipo `axes`."
   ]
  },
  {
   "cell_type": "markdown",
   "metadata": {},
   "source": [
    "| <center>Método<center> | <center>Descripción<center> | \n",
    "| :--- | :--- | \n",
    "| `set_xscale` | Establece la escala del eje x |\n",
    "| `set_yscale` | Establece la escala del eje y |\n",
    "| `set_axis_off` | Elimina los ejes del gráfico|\n",
    "| `set_xlim` | Establece límites para el rango del eje x |\n",
    "| `set_ylim` | Establece límites para el rango del eje y |\n",
    "| `set_xticks` | Establece cuales valores del eje x tendrán una etiqueta |\n",
    "| `set_yticks` | Establecemos cuales valores del eje y tendrán una etiqueta |\n",
    "| `set_xticklabels` | Establece los valores de las etiquetas de datos del eje x |\n",
    "| `set_yticklabels` | Establece los valores de las etiquetas de datos del eje y |\n",
    "| `set_title` | Agrega un título al gráfico |\n",
    "| `legend` | Agrega una leyenda al gráfico|\n",
    "| `twinx` | Genera un segundo eje vertical a la derecha del gráfico|\n",
    "| `twiny` | Genera un segundo eje horizontal arriba del gráfico|\n",
    "| `grid` | Agrega una grilla al gráfico cuando toma el valor `True`|"
   ]
  },
  {
   "cell_type": "markdown",
   "metadata": {},
   "source": [
    "### 1.4. Gráfico de barras"
   ]
  },
  {
   "cell_type": "markdown",
   "metadata": {},
   "source": [
    "Queremos comparar las ventas anuales (en USD) de dos productos durante los últimos 5 años. Para esto, crearemos un gráfico de barras."
   ]
  },
  {
   "cell_type": "code",
   "execution_count": 5,
   "metadata": {},
   "outputs": [
    {
     "data": {
      "image/png": "[encoded data removed]",
      "text/plain": [
       "<Figure size 640x480 with 1 Axes>"
      ]
     },
     "metadata": {},
     "output_type": "display_data"
    }
   ],
   "source": [
    "fig, ax = plt.subplots()                                # Declaramos la visualización.\n",
    "etiquetas = ['2016', '2017', '2018', '2019', '2020']    # Declaramos las etiquetas del eje x (años).\n",
    "producto_a = [20000, 40000, 35000, 45000, 60000]        # Declaramos los registros de las ventas del producto A.\n",
    "producto_b = [55000, 40000, 20000, 22000, 17000]        # Declaramos los registros de las ventas del producto B.\n",
    "\n",
    "ancho = 0.35                                            # Definimos el ancho de las barras.\n",
    "pos_bar_a = [i - ancho/2 for i in range(len(etiquetas))]# Ubicación de cada barra en A.\n",
    "pos_bar_b = [i + ancho/2 for i in range(len(etiquetas))]# Ubicación de cada barra en B.\n",
    "\n",
    "# Serie de datos correspondiente al producto A.\n",
    "serie_a = ax.bar(pos_bar_a,                             # Definimos la ubicación de cada barra.\n",
    "                 producto_a,                            # Asignamos los registros correspondientes a las barras.\n",
    "                 ancho,                                 # Asignamos el ancho de cada barra.\n",
    "                 label = 'Producto A',                  # Definimos un nombre para la serie A.\n",
    "                 color = 'lightsteelblue')              # Modificamos el color de las barras. \n",
    "\n",
    "# Serie de datos correspondiente al producto B.\n",
    "serie_b = ax.bar(pos_bar_b,                             # Definimos la ubicación de cada barra.\n",
    "                 producto_b,                            # Asignamos los registros del producto A a las barras.\n",
    "                 ancho,                                 # Asignamos el ancho de cada barra.\n",
    "                 label = 'Producto B',                  # Definimos un nombre para la serie A.\n",
    "                 color = 'navy')                        # Modificamos el color de las barras.\n",
    "\n",
    "ax.set_xticks([*range(len(etiquetas))])                 # Establecemos cuales valores del eje x tendrán una etiqueta.\n",
    "ax.set_xticklabels(etiquetas)                           # Establecemos las etiquetas del eje x.\n",
    "ax.legend()                                             # Declaramos la leyenda de los datos.\n",
    "\n",
    "plt.show()                                              # Utilizamos el método show para mostrar la visualización."
   ]
  },
  {
   "cell_type": "markdown",
   "metadata": {},
   "source": [
    "### 1.5. Gráfico de Dispersión"
   ]
  },
  {
   "cell_type": "markdown",
   "metadata": {},
   "source": [
    "A continuación, crearemos un gráfico de dispersión."
   ]
  },
  {
   "cell_type": "code",
   "execution_count": 6,
   "metadata": {},
   "outputs": [
    {
     "data": {
      "image/png": "[encoded data removed]",
      "text/plain": [
       "<Figure size 640x480 with 1 Axes>"
      ]
     },
     "metadata": {},
     "output_type": "display_data"
    }
   ],
   "source": [
    "fig, ax = plt.subplots()                            # Declaramos la visualización.\n",
    "\n",
    "# Serie de datos 1.\n",
    "serie_1 = ax.scatter(                                \n",
    "                     [1,2,3,4],                       # Declaramos las coordenadas del eje x.\n",
    "                     [1,4,8,10],                      # Declaramos las coordenadas del eje y.\n",
    "                     color='blue',                    # Modificamos el color de los puntos.\n",
    "                     label='Serie 1'                  # Definimos un nombre para la serie 1.\n",
    "                     )    \n",
    "# Serie de datos 2.\n",
    "serie_2 = ax.scatter(                                \n",
    "                     [1,2,3,4],                       # Declaramos las coordenadas del eje x.\n",
    "                     [1,5,7,9],                       # Declaramos las coordenadas del eje y.\n",
    "                     color='green',                   # Modificamos el color de los puntos.\n",
    "                     label='Serie 2'                  # Definimos un nombre para la serie 2.\n",
    "                   )\n",
    "\n",
    "ax.set_xscale('linear')                               # Establecemos una escala lineal para el eje x.\n",
    "ax.set_yscale('linear')                               # Establecemos una escala lineal para el eje y.\n",
    "ax.set_title('Gráfico de dispersión')                 # Definimos un título para la visualización.\n",
    "ax.grid(True)                                         # Agregamos una grilla al gráfico.\n",
    "ax.legend()                                           # Modificamos el color del gráfico.\n",
    "\n",
    "plt.show()                                            # Utilizamos el método show para mostrar la visualización."
   ]
  },
  {
   "cell_type": "markdown",
   "metadata": {},
   "source": [
    "## Referencias"
   ]
  },
  {
   "cell_type": "markdown",
   "metadata": {},
   "source": [
    "Matplotlib (2020). Matplotlib: Python plotting. Recuperado el 11 de febrero de 2020 de: https://matplotlib.org/"
   ]
  },
  {
   "cell_type": "markdown",
   "metadata": {},
   "source": [
    "## Créditos"
   ]
  },
  {
   "cell_type": "markdown",
   "metadata": {},
   "source": [
    "**Autores:** Juan David Reyes Jaimes, Alejandro Mantilla Redondo, Diego Alejandro Cely Gómez\n",
    "\n",
    "**Fecha última actualización:** 12/07/2022"
   ]
  }
 ],
 "metadata": {
  "kernelspec": {
   "display_name": ".venv",
   "language": "python",
   "name": "python3"
  },
  "language_info": {
   "codemirror_mode": {
    "name": "ipython",
    "version": 3
   },
   "file_extension": ".py",
   "mimetype": "text/x-python",
   "name": "python",
   "nbconvert_exporter": "python",
   "pygments_lexer": "ipython3",
   "version": "3.10.12"
  }
 },
 "nbformat": 4,
 "nbformat_minor": 4
}
